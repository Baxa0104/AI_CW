{
 "cells": [
  {
   "cell_type": "markdown",
   "id": "114aef70",
   "metadata": {},
   "source": [
    "## **Student Name: Bakhtiyor Sohibnazarov** \\\n",
    "**Student ID: SOH22590018** \\\n",
    "**Course: Computer Science. Artificial Intelligence Module** \\\n",
    "**Purpose: Coursework - 3** \\\n",
    "**Last Update: 21.03.2025**"
   ]
  },
  {
   "cell_type": "markdown",
   "id": "00fbab11",
   "metadata": {},
   "source": [
    "### Coursework 3: Wildlife Preservation Strategy Simulator\n",
    "\n",
    "##### Task 1: Define the Wildlife Simulator\n",
    "- Create the Park Habitat Grid:\n",
    "In this analogy, the game board represents a section of a park divided into a 3x3 grid.\n",
    "Each cell corresponds to a specific habitat type (e.g., wetlands, meadows,\n",
    "woodlands). The initial state reflects the current health of each habitat zone.\n",
    "##### 2. Update Conservation Actions:\n",
    "The player (conservationist) takes turns choosing a conservation action, analogous to\n",
    "making a move in Tic-Tac-Toe. Each action alters the habitat grid, representing\n",
    "efforts to improve biodiversity in that zone.\n",
    "##### 3. Check for Conservation Success:\n",
    "The AI opponent (environmental threat) reacts to each conservation action made by\n",
    "the player. The game continues until a final state is reached, where the habitat grid\n",
    "reflects the success of conservation efforts. Winning the game corresponds to\n",
    "successfully preserving key species and habitats, while losing represents challenges\n",
    "such as habitat degradation or species loss.\n",
    "##### Tips:\n",
    "- Develop codes and functions to create the simulator board (9 squares).\n",
    "- Develop codes and functions to update the board. For example, the function may take\n",
    "the player’s next move as input and output the updated board.\n",
    "- Develop codes and functions to check if the current board is a final state (one of the\n",
    "players wins or a tie)."
   ]
  },
  {
   "cell_type": "code",
   "execution_count": null,
   "id": "51230f3c",
   "metadata": {},
   "outputs": [],
   "source": []
  },
  {
   "cell_type": "markdown",
   "id": "37e1e976",
   "metadata": {},
   "source": [
    "##### Task 2: Develop the AI Threat Simulator\n",
    "- AI Threat Response:\n",
    "The AI opponent (environmental threat) strategically reacts to the conservationist’s\n",
    "actions. The AI Threat Simulator determines the optimal \"move\" to maximize\n",
    "challenges such as introducing invasive species, increasing pollution, or causing\n",
    "habitat fragmentation.\n",
    "- Strategic Gameplay:\n",
    "The AI Threat Simulator aims to maximize the difficulty for the player, requiring\n",
    "careful consideration and adaptation of conservation actions. This mirrors the\n",
    "strategic gameplay in Tic-Tac-Toe, where the opponent seeks to block the player\n",
    "from achieving their goal.\n",
    "##### Tips:\n",
    "- Develop an AI player. For example, the function may take the current board as input\n",
    "and output an optimal move for the AI player.\n",
    "- Use strategies or algorithms to maximize the AI’s challenge, such as the minimax\n",
    "algorithm or Alpha-Beta pruning."
   ]
  },
  {
   "cell_type": "code",
   "execution_count": null,
   "id": "799c06fd",
   "metadata": {},
   "outputs": [],
   "source": []
  },
  {
   "cell_type": "markdown",
   "id": "27eefca2",
   "metadata": {},
   "source": [
    "##### Task 3: Start the Wildlife Preservation Simulator\n",
    "- Introduce the Simulator:\n",
    "Explain the rules to the user (conservationist), clarifying that their moves represent\n",
    "conservation actions, and the AI opponent (environmental threat) reacts\n",
    "accordingly.\n",
    "- User and AI Decision-Making:\n",
    "The conservationist and the AI opponent take turns making decisions, altering the\n",
    "habitat grid in each move. The evolving habitat grid visually represents the ongoing\n",
    "battle between conservation efforts and environmental challenges.\n",
    "- Game Progression:\n",
    "Continue the game until a final state is reached, signifying the outcome of the\n",
    "conservation efforts. Display the resulting habitat grid and a message indicating\n",
    "success or challenges in preserving biodiversity.\n",
    "- Final State and Result:\n",
    "Similar to Tic-Tac-Toe, the game concludes with a message indicating whether the\n",
    "conservationist successfully preserved the habitats and species or faced difficulties in\n",
    "mitigating environmental threats.\n",
    "##### Tips:\n",
    "- Introduce the program and explain the rules to the user with prompts.\n",
    "- Allow the user to decide whether they or the AI player moves first.\n",
    "- Start the simulator and display the updated grid for each step.\n",
    "- When a final state is reached, display a message with the result."
   ]
  },
  {
   "cell_type": "code",
   "execution_count": null,
   "id": "c1a2ef47",
   "metadata": {},
   "outputs": [],
   "source": []
  },
  {
   "cell_type": "code",
   "execution_count": null,
   "id": "7bcd7702",
   "metadata": {},
   "outputs": [],
   "source": []
  },
  {
   "cell_type": "code",
   "execution_count": null,
   "id": "a74d87b0",
   "metadata": {},
   "outputs": [],
   "source": []
  },
  {
   "cell_type": "code",
   "execution_count": null,
   "id": "cad2dbd2",
   "metadata": {},
   "outputs": [],
   "source": []
  }
 ],
 "metadata": {
  "kernelspec": {
   "display_name": "Python 3 (ipykernel)",
   "language": "python",
   "name": "python3"
  },
  "language_info": {
   "codemirror_mode": {
    "name": "ipython",
    "version": 3
   },
   "file_extension": ".py",
   "mimetype": "text/x-python",
   "name": "python",
   "nbconvert_exporter": "python",
   "pygments_lexer": "ipython3",
   "version": "3.10.9"
  }
 },
 "nbformat": 4,
 "nbformat_minor": 5
}
